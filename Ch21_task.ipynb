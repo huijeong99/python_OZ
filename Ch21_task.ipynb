{
  "cells": [
    {
      "cell_type": "markdown",
      "metadata": {
        "id": "view-in-github",
        "colab_type": "text"
      },
      "source": [
        "<a href=\"https://colab.research.google.com/github/huijeong99/python_OZ/blob/main/Ch21_task.ipynb\" target=\"_parent\"><img src=\"https://colab.research.google.com/assets/colab-badge.svg\" alt=\"Open In Colab\"/></a>"
      ]
    },
    {
      "cell_type": "markdown",
      "metadata": {
        "id": "KFwL1-bOwOqy"
      },
      "source": [
        "안녕하세요. 수강생 여러분~! Chapter21 ~ 32 수업은 잘 들으셨나요?\n",
        "\n",
        "Chapter21 ~ 32의 수업 내용을 바탕으로 아래 문제를 풀어주시면 됩니다.\n",
        "\n",
        "\n",
        "<br>\n",
        "\n",
        "\n",
        "[**답변 입력 방법**]\n",
        "\n",
        "문제 아래에 있는 코드 입력창에 정답코드를 작성하신 후  __▷ 버튼을 클릭해 코드를 실행__ 해보세요<br>"
      ]
    },
    {
      "cell_type": "markdown",
      "metadata": {
        "id": "LOxz79B-wOq1"
      },
      "source": [
        "---"
      ]
    },
    {
      "cell_type": "markdown",
      "metadata": {
        "id": "OLbfMEYQwOq2"
      },
      "source": [
        "[문제 1]\n",
        "사용자로부터 이름과 나이를 입력 받아, \"안녕하세요, [이름]님! 당신은 [나이]살입니다.\"라고 출력하는 함수 greet_user를 작성하세요."
      ]
    },
    {
      "cell_type": "code",
      "source": [
        "def user(name, age):\n",
        "    print(f\"안녕하세요, {name}님! 당신은 {age}살입니다.\")\n",
        "\n",
        "    return\n",
        "\n",
        "name = input(\"이름 입력\")\n",
        "age = input(\"나이 입력\")\n",
        "\n",
        "print(user(name,age))"
      ],
      "metadata": {
        "colab": {
          "base_uri": "https://localhost:8080/"
        },
        "id": "-pktMkYSwbdA",
        "outputId": "d7f270e3-6c88-4941-e8b0-91426f1afae5"
      },
      "execution_count": null,
      "outputs": [
        {
          "output_type": "stream",
          "name": "stdout",
          "text": [
            "이름 입력d\n",
            "나이 입력e\n",
            "안녕하세요, d님! 당신은 e살입니다.\n",
            "None\n"
          ]
        }
      ]
    },
    {
      "cell_type": "markdown",
      "metadata": {
        "id": "k3SX5ZDQwOq3"
      },
      "source": [
        "---"
      ]
    },
    {
      "cell_type": "markdown",
      "metadata": {
        "id": "9d8SfZtZwOq3"
      },
      "source": [
        "[문제 2] 여러 숫자를 입력받아 그 합계를 반환하는 함수 sum_numbers를 작성하세요. 이 때, 가변 매개변수를 사용하세요."
      ]
    },
    {
      "cell_type": "code",
      "source": [
        "def sum_numbers(*numbers):\n",
        "    return sum(numbers)\n",
        "\n",
        "input_numbers_str = input(\"숫자 입력\").split(',')\n",
        "input_numbers = [int(num) for num in input_numbers_str]\n",
        "\n",
        "print(sum_numbers(*input_numbers))"
      ],
      "metadata": {
        "colab": {
          "base_uri": "https://localhost:8080/"
        },
        "id": "OGw9LhNFwta2",
        "outputId": "ab94dcd4-520e-4264-9295-fac5563d232a"
      },
      "execution_count": null,
      "outputs": [
        {
          "output_type": "stream",
          "name": "stdout",
          "text": [
            "숫자 입력1,5,2,4\n",
            "12\n"
          ]
        }
      ]
    },
    {
      "cell_type": "markdown",
      "metadata": {
        "id": "_7JQ4FmXwOq4"
      },
      "source": [
        "---"
      ]
    },
    {
      "cell_type": "markdown",
      "metadata": {
        "id": "ofJx8eZ6wOq4"
      },
      "source": [
        "[문제 3] 사용자의 이름을 출력하는 함수 print_name을 작성하세요. 만약 이름이 주어지지 않았다면, 기본값으로 \"익명\"을 사용하세요."
      ]
    },
    {
      "cell_type": "code",
      "source": [
        "def print_name(name=\"익명\"):\n",
        "    print(name)\n",
        "\n",
        "print_name()"
      ],
      "metadata": {
        "colab": {
          "base_uri": "https://localhost:8080/"
        },
        "id": "6KndFSwZxP5O",
        "outputId": "0d1374fd-fa1a-4f59-bbb4-8ef12e1d783d"
      },
      "execution_count": null,
      "outputs": [
        {
          "output_type": "stream",
          "name": "stdout",
          "text": [
            "익명\n"
          ]
        }
      ]
    },
    {
      "cell_type": "markdown",
      "metadata": {
        "id": "528n3h0swOq5"
      },
      "source": [
        "---"
      ]
    },
    {
      "cell_type": "markdown",
      "metadata": {
        "id": "8xnsXE2swOq5"
      },
      "source": [
        "[문제 4] 사용자의 이름, 나이, 성별을 출력하는 함수 print_info를 작성하세요. 이 때, 모든 매개변수는 키워드 매개변수로만 받도록 하세요."
      ]
    },
    {
      "cell_type": "code",
      "source": [
        "from ast import NodeTransformer\n",
        "def info(**info):\n",
        "    for key, value in info.items():\n",
        "        print(f\"{key}: {value}\")\n",
        "\n",
        "name = input(\"이름 입력\")\n",
        "age = input(\"나이 입력\")\n",
        "gender = input(\"성별 입력\")\n",
        "\n",
        "info(name=name, age=age, gender=gender)"
      ],
      "metadata": {
        "colab": {
          "base_uri": "https://localhost:8080/"
        },
        "id": "8XhyIx3Sxjae",
        "outputId": "9422a71d-94aa-4555-b39a-2a142e1ce2b0"
      },
      "execution_count": null,
      "outputs": [
        {
          "output_type": "stream",
          "name": "stdout",
          "text": [
            "이름 입력나희정\n",
            "나이 입력13\n",
            "성별 입력여\n",
            "name: 나희정\n",
            "age: 13\n",
            "gender: 여\n"
          ]
        }
      ]
    },
    {
      "cell_type": "markdown",
      "metadata": {
        "id": "_6U2DQ7_wOq5"
      },
      "source": [
        "---"
      ]
    },
    {
      "cell_type": "markdown",
      "metadata": {
        "id": "Wj-f_cxOwOq6"
      },
      "source": [
        "[문제 5] 두 개의 정수를 받아 합을 반환하는 함수 add를 작성하세요. 매개변수와 반환값에 타입 어노테이션을 추가하세요."
      ]
    },
    {
      "cell_type": "code",
      "source": [
        "def add(a: int, b: int) -> int:\n",
        "    return a + b\n",
        "\n",
        "num1_str = input(\"첫번째 정수\")\n",
        "num2_str = input(\"두번째 정수\")\n",
        "\n",
        "num1 = int(num1_str)\n",
        "num2 = int(num2_str)\n",
        "\n",
        "print(add(num1,num2))"
      ],
      "metadata": {
        "colab": {
          "base_uri": "https://localhost:8080/"
        },
        "id": "8JNSolOGyFBO",
        "outputId": "1d91e81a-a134-40cd-a689-e7f79b8e4275"
      },
      "execution_count": 17,
      "outputs": [
        {
          "output_type": "stream",
          "name": "stdout",
          "text": [
            "첫번째 정수3\n",
            "두번째 정수6\n",
            "9\n"
          ]
        }
      ]
    },
    {
      "cell_type": "markdown",
      "metadata": {
        "id": "BhD5nUKbwOq6"
      },
      "source": [
        "63---"
      ]
    },
    {
      "cell_type": "markdown",
      "metadata": {
        "id": "AaHaFD-NwOq6"
      },
      "source": [
        "[문제 6] 0부터 시작하여 n까지의 숫자 중에서 홀수만 생성하는 제너레이터 odd_numbers를 작성하세요."
      ]
    },
    {
      "cell_type": "code",
      "source": [
        "def odd_numbers(n):\n",
        "    for i in range(n):\n",
        "        if i % 2 != 0:\n",
        "            yield i\n",
        "\n",
        "count_str = input(\"숫자 갯수\")\n",
        "count = int(count_str)\n",
        "\n",
        "for num in odd_numbers(count):\n",
        "    print(num)"
      ],
      "metadata": {
        "colab": {
          "base_uri": "https://localhost:8080/"
        },
        "id": "HQkEvnt0yrqE",
        "outputId": "16be10ad-98b2-4c45-90ac-e9064d3c3c02"
      },
      "execution_count": 20,
      "outputs": [
        {
          "output_type": "stream",
          "name": "stdout",
          "text": [
            "숫자 갯수8\n",
            "1\n",
            "3\n",
            "5\n",
            "7\n"
          ]
        }
      ]
    },
    {
      "cell_type": "markdown",
      "metadata": {
        "id": "RQR9bSsFwOq6"
      },
      "source": [
        "---"
      ]
    },
    {
      "cell_type": "markdown",
      "metadata": {
        "id": "iWQAj3cYwOq7"
      },
      "source": [
        "[문제 7] 두 숫자를 더하는 람다 함수를 작성하고, 이를 변수에 할당한 후 사용하세요."
      ]
    },
    {
      "cell_type": "code",
      "source": [
        "add = lambda x, y: x + y\n",
        "\n",
        "num1 = int(input(\"첫번째 숫자\"))\n",
        "num2 = int(input(\"두번째 숫자\"))\n",
        "\n",
        "print(add(num1, num2))"
      ],
      "metadata": {
        "colab": {
          "base_uri": "https://localhost:8080/"
        },
        "id": "zfpQMSpXzIfE",
        "outputId": "e970275b-d28b-49e4-c02e-86fecef8752a"
      },
      "execution_count": 21,
      "outputs": [
        {
          "output_type": "stream",
          "name": "stdout",
          "text": [
            "첫번째 숫자4\n",
            "두번째 숫자6\n",
            "10\n"
          ]
        }
      ]
    },
    {
      "cell_type": "markdown",
      "metadata": {
        "id": "0b4JiJ4wwOq7"
      },
      "source": [
        "---"
      ]
    },
    {
      "cell_type": "markdown",
      "metadata": {
        "id": "8lDPrNMfwOq7"
      },
      "source": [
        "[문제 8] 사용자로부터 3개의 숫자를 입력받아, 이를 튜플로 만든 후 최소값과 최대값을 출력하는 함수 min_max를 작성하세요."
      ]
    },
    {
      "cell_type": "code",
      "source": [
        "def min_max(numbers):\n",
        "    min_num = min(numbers)\n",
        "    max_num = max(numbers)\n",
        "    return min_num, max_num\n",
        "\n",
        "while True:\n",
        "    try:\n",
        "        num1_str = input(\"첫번째 숫자\")\n",
        "        num2_str = input(\"두번째 숫자\")\n",
        "        num3_str = input(\"세번째 숫자\")\n",
        "\n",
        "        num1 = int(num1_str)\n",
        "        num2 = int(num2_str)\n",
        "        num3 = int(num3_str)\n",
        "\n",
        "        numbers = (num1, num2, num3)\n",
        "        min_val, max_val = min_max(numbers)\n",
        "        print(f\"최소값: {min_val}, 최대값: {max_val}\")\n",
        "        break\n",
        "    except ValueError:\n",
        "        print(\"잘못된 입력입니다. 숫자를 입력해주세요.\")\n",
        "\n",
        "        #숫자 입력 잘못했을 때 오류나는 거 고침"
      ],
      "metadata": {
        "colab": {
          "base_uri": "https://localhost:8080/"
        },
        "id": "8zgz7hbYzT1E",
        "outputId": "71cfc013-89ec-4e27-ec06-255ddf1d837d"
      },
      "execution_count": 26,
      "outputs": [
        {
          "output_type": "stream",
          "name": "stdout",
          "text": [
            "첫번째 숫자5\n",
            "두번째 숫자\n",
            "세번째 숫자6\n",
            "잘못된 입력입니다. 숫자를 입력해주세요.\n",
            "첫번째 숫자1\n",
            "두번째 숫자6\n",
            "세번째 숫자4\n",
            "최소값: 1, 최대값: 6\n"
          ]
        }
      ]
    },
    {
      "cell_type": "markdown",
      "metadata": {
        "id": "s6oTkzovwOq7"
      },
      "source": [
        "---"
      ]
    },
    {
      "cell_type": "markdown",
      "metadata": {
        "id": "6SJsfkduwOq7"
      },
      "source": [
        "[문제 9] 주어진 숫자가 짝수인지 확인하는 함수 is_even을 작성하세요. 짝수라면 True를, 아니라면 False를 반환하세요. 함수 내에서 조기 리턴을 활용하세요."
      ]
    },
    {
      "cell_type": "code",
      "source": [
        "def is_even(number):\n",
        "    return number % 2 == 0\n",
        "\n",
        "num = int(input(\"숫자를 입력하세요\"))\n",
        "print(is_even(num))"
      ],
      "metadata": {
        "colab": {
          "base_uri": "https://localhost:8080/"
        },
        "id": "cfxHMYag0sED",
        "outputId": "097d10aa-0fa2-4e1d-aa50-259e4b108a2b"
      },
      "execution_count": 29,
      "outputs": [
        {
          "output_type": "stream",
          "name": "stdout",
          "text": [
            "숫자를 입력하세요6\n",
            "True\n"
          ]
        }
      ]
    },
    {
      "cell_type": "markdown",
      "metadata": {
        "id": "b0SY3Dt4wOq8"
      },
      "source": [
        "---"
      ]
    },
    {
      "cell_type": "markdown",
      "metadata": {
        "id": "yiBRiak3wOq8"
      },
      "source": [
        "[문제 10] 팩토리얼을 계산하는 재귀 함수 factorial을 작성하세요."
      ]
    },
    {
      "cell_type": "code",
      "source": [
        "def factorial(n):\n",
        "    if n == 0:\n",
        "        return 1\n",
        "    else:\n",
        "        return n * factorial(n-1)\n",
        "\n",
        "num = int(input(\"숫자 입력\"))\n",
        "\n",
        "print(factorial(num))\n",
        "\n",
        "#오답노트 : 들여쓰기!!!!!"
      ],
      "metadata": {
        "colab": {
          "base_uri": "https://localhost:8080/"
        },
        "id": "war0RZgQ09wS",
        "outputId": "8de7ce1b-0960-4b9c-c8bd-25496170d97c"
      },
      "execution_count": 30,
      "outputs": [
        {
          "output_type": "stream",
          "name": "stdout",
          "text": [
            "숫자 입력4\n",
            "24\n"
          ]
        }
      ]
    },
    {
      "cell_type": "markdown",
      "metadata": {
        "id": "T5WJPiQiwOq8"
      },
      "source": [
        "---"
      ]
    },
    {
      "cell_type": "markdown",
      "metadata": {
        "id": "WuClvkgYwOq8"
      },
      "source": [
        "[문제 11] 문자열 리스트를 받아, 각 문자열의 길이를 출력하는 함수 print_lengths를 작성하세요."
      ]
    },
    {
      "cell_type": "code",
      "source": [
        "def print_lengths(strings):\n",
        "    for string in strings:\n",
        "        print(len(string))\n",
        "\n",
        "string = input(\"문자열을 입력하세요\")\n",
        "\n",
        "print_lengths(string)\n",
        "\n",
        "#뭔가..뭔가 문제가 있다. 나중에 다시 볼 것"
      ],
      "metadata": {
        "colab": {
          "base_uri": "https://localhost:8080/"
        },
        "id": "_Ee-LKsZ1MmT",
        "outputId": "234cdac6-a901-435f-954c-cb3184ee850e"
      },
      "execution_count": 35,
      "outputs": [
        {
          "output_type": "stream",
          "name": "stdout",
          "text": [
            "문자열을 입력하세요apple\n",
            "1\n",
            "1\n",
            "1\n",
            "1\n",
            "1\n"
          ]
        }
      ]
    },
    {
      "cell_type": "markdown",
      "metadata": {
        "id": "s4b9svn2wOq8"
      },
      "source": [
        "---"
      ]
    },
    {
      "cell_type": "markdown",
      "metadata": {
        "id": "ORo0iTE6wOq8"
      },
      "source": [
        "[문제 12] 두 문자열을 받아서 긴 문자열을 반환하는 함수 longer_string을 작성하세요. 만약 두 문자열의 길이가 같다면, 첫 번째 문자열을 반환하세요."
      ]
    },
    {
      "cell_type": "code",
      "source": [
        "str1 = str(input(\"첫번째 문자열\"))\n",
        "str2 = str(input(\"두번째 문자열\"))\n",
        "\n",
        "def longer_string(str1, str2):\n",
        "    if len(str1) >= len(str2):\n",
        "        return str1\n",
        "    else:\n",
        "        return str2\n",
        "\n",
        "print(longer_string(str1, str2))"
      ],
      "metadata": {
        "colab": {
          "base_uri": "https://localhost:8080/"
        },
        "id": "eDG3kyfw1e7l",
        "outputId": "6bc2de97-7864-48b4-fc3d-0d7013ee96cb"
      },
      "execution_count": 34,
      "outputs": [
        {
          "output_type": "stream",
          "name": "stdout",
          "text": [
            "첫번째 문자열apple\n",
            "두번째 문자열age\n",
            "apple\n"
          ]
        }
      ]
    },
    {
      "cell_type": "code",
      "source": [],
      "metadata": {
        "id": "fYlF5SrS1r71"
      },
      "execution_count": null,
      "outputs": []
    }
  ],
  "metadata": {
    "language_info": {
      "name": "python"
    },
    "colab": {
      "provenance": [],
      "include_colab_link": true
    },
    "kernelspec": {
      "name": "python3",
      "display_name": "Python 3"
    }
  },
  "nbformat": 4,
  "nbformat_minor": 0
}